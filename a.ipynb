{
 "cells": [
  {
   "attachments": {},
   "cell_type": "markdown",
   "id": "2d67f162",
   "metadata": {},
   "source": [
    "# Langchain + GPT-3\n",
    "\n",
    "Quick overview how to build systems that use GPT-3 and langchain.\n",
    "\n",
    "    Building applications with LLMs through composability\n",
    "\n",
    "https://langchain.readthedocs.io/en/latest/index.html\n",
    "\n",
    "https://beta.openai.com"
   ]
  },
  {
   "cell_type": "code",
   "execution_count": null,
   "metadata": {},
   "outputs": [],
   "source": [
    "import os\n",
    "import sqlite3\n",
    "\n",
    "from langchain.agents import ZeroShotAgent, Tool\n",
    "from langchain.chains.conversation.memory import ConversationBufferMemory\n",
    "from langchain.chains.llm import LLMChain\n",
    "from langchain.chains.llm_math.base import LLMMathChain\n",
    "from langchain.chains.sql_database.base import SQLDatabaseChain\n",
    "from langchain.llms.openai import OpenAI\n",
    "from langchain.serpapi import SerpAPIChain\n",
    "from langchain.sql_database import SQLDatabase\n",
    "\n",
    "from dotenv import load_dotenv\n",
    "\n",
    "load_dotenv()\n",
    "\n",
    "DB_NAME = \"bookmarks.db\""
   ]
  },
  {
   "cell_type": "markdown",
   "id": "55c677a3",
   "metadata": {},
   "source": [
    "### Bootstrap"
   ]
  },
  {
   "cell_type": "code",
   "execution_count": null,
   "id": "6dcf4811",
   "metadata": {},
   "outputs": [],
   "source": [
    "if os.path.exists(DB_NAME):\n",
    "    os.remove(DB_NAME)\n",
    "\n",
    "# create a new database\n",
    "conn = sqlite3.connect(DB_NAME)\n",
    "cursor = conn.cursor()\n",
    "# create bookmarks table\n",
    "cursor.execute(\n",
    "    \"\"\"\n",
    "    CREATE TABLE bookmarks (\n",
    "        id integer primary key autoincrement,\n",
    "        name text,\n",
    "        url text\n",
    "    )\n",
    "\"\"\"\n",
    ")\n",
    "\n",
    "# insert dummy records\n",
    "for i in range(20):\n",
    "    cursor.execute(\n",
    "        \"\"\"\n",
    "        INSERT INTO bookmarks (name, url)\n",
    "        VALUES (?, ?)\n",
    "    \"\"\",\n",
    "        (f\"bookmark {i}\", f\"http://bookmark.com/{i}/\"),\n",
    "    )\n",
    "\n",
    "# save changes\n",
    "conn.commit()\n",
    "\n",
    "# close connection\n",
    "conn.close()"
   ]
  },
  {
   "cell_type": "markdown",
   "id": "38ce62ba",
   "metadata": {},
   "source": [
    "### Models"
   ]
  },
  {
   "cell_type": "code",
   "execution_count": null,
   "id": "32f2624b",
   "metadata": {},
   "outputs": [],
   "source": [
    "llm = OpenAI(temperature=0, model_name=\"text-davinci-003\")\n",
    "db = SQLDatabase.from_uri(f\"sqlite:///{DB_NAME}\")"
   ]
  },
  {
   "cell_type": "markdown",
   "id": "120a530a",
   "metadata": {},
   "source": [
    "### Chains"
   ]
  },
  {
   "cell_type": "code",
   "execution_count": null,
   "id": "7a37f004",
   "metadata": {},
   "outputs": [],
   "source": [
    "search = SerpAPIChain()\n",
    "db_chain = SQLDatabaseChain(llm=llm, database=db, verbose=True)\n",
    "math_chain = LLMMathChain(llm=llm, verbose=True)"
   ]
  },
  {
   "cell_type": "markdown",
   "id": "d29ed6f2",
   "metadata": {},
   "source": [
    "### Tools"
   ]
  },
  {
   "cell_type": "code",
   "execution_count": null,
   "id": "555b6ecf",
   "metadata": {},
   "outputs": [],
   "source": [
    "tools = [\n",
    "    Tool(\n",
    "        name = \"Search\",\n",
    "        func=search.run,\n",
    "        description=\"useful for when you need to answer questions about current events or search the internet.\"\n",
    "    ),\n",
    "    Tool(\n",
    "        name=\"Bookmarks DB\",\n",
    "        func=db_chain.run,\n",
    "        description=\"useful for when you need to answer questions about bookmarks. Input should be in the form of a question or statement\"\n",
    "    ),\n",
    "    Tool(\n",
    "        name=\"Calculator\",\n",
    "        func=math_chain.run,\n",
    "        description=\"useful for when you need to answer questions about math and calculate\"\n",
    "    ),\n",
    "]"
   ]
  },
  {
   "cell_type": "markdown",
   "id": "626dbc36",
   "metadata": {},
   "source": [
    "### Prompt"
   ]
  },
  {
   "cell_type": "code",
   "execution_count": null,
   "id": "44632f29",
   "metadata": {},
   "outputs": [],
   "source": [
    "prefix = \"\"\"Have a conversation with a human, answering the following questions as best you can and a friendly and specific manner. You have access to the following tools:\"\"\"\n",
    "suffix = \"\"\"Begin!\"\n",
    "\n",
    "{chat_history}\n",
    "Question: {input}\n",
    "\"\"\"\n",
    "\n",
    "prompt = ZeroShotAgent.create_prompt(\n",
    "    tools, \n",
    "    prefix=prefix, \n",
    "    suffix=suffix, \n",
    "    input_variables=[\"input\", \"chat_history\"]\n",
    ")\n",
    "memory = ConversationBufferMemory(memory_key=\"chat_history\")\n"
   ]
  },
  {
   "cell_type": "markdown",
   "id": "bfe4b5d4",
   "metadata": {},
   "source": [
    "### Agent"
   ]
  },
  {
   "cell_type": "code",
   "execution_count": null,
   "id": "a76829ab",
   "metadata": {},
   "outputs": [],
   "source": [
    "llm_chain = LLMChain(llm=OpenAI(temperature=0), prompt=prompt, memory=memory)\n",
    "agent = ZeroShotAgent(llm_chain=llm_chain, tools=tools, verbose=True)"
   ]
  },
  {
   "cell_type": "code",
   "execution_count": null,
   "id": "4eee1772",
   "metadata": {},
   "outputs": [],
   "source": [
    "agent.run(\"how many bookmarks are there?\")"
   ]
  },
  {
   "cell_type": "code",
   "execution_count": null,
   "id": "1905ee9c",
   "metadata": {},
   "outputs": [],
   "source": [
    "agent.run(\"Add a bookmark for Apple\")"
   ]
  },
  {
   "cell_type": "code",
   "execution_count": null,
   "id": "63e0322f",
   "metadata": {},
   "outputs": [],
   "source": [
    "agent.run(\"How many bookmarks begin with 'b'?\")"
   ]
  },
  {
   "cell_type": "code",
   "execution_count": null,
   "id": "fb98fc23",
   "metadata": {},
   "outputs": [],
   "source": [
    "agent.run(\"what's the URL of the wikipedia page for Apple?\")"
   ]
  },
  {
   "cell_type": "code",
   "execution_count": null,
   "id": "d9da82c9",
   "metadata": {},
   "outputs": [],
   "source": [
    "agent.run(\"Ok add that page to my bookmarks as well\")"
   ]
  },
  {
   "cell_type": "code",
   "execution_count": null,
   "id": "745b124f",
   "metadata": {},
   "outputs": [],
   "source": [
    "agent.run(\"update that bookmark to 'Apple Computer Wiki Page'\")"
   ]
  },
  {
   "cell_type": "markdown",
   "id": "f9ac7661",
   "metadata": {},
   "source": [
    "### Inspect memory"
   ]
  },
  {
   "cell_type": "code",
   "execution_count": null,
   "id": "ff8f91b2",
   "metadata": {},
   "outputs": [],
   "source": [
    "import pprint\n",
    "pprint.pprint(memory.buffer.splitlines(), width=120)"
   ]
  },
  {
   "cell_type": "markdown",
   "id": "cc8c70ab",
   "metadata": {},
   "source": [
    "### Calculations via Python REPL"
   ]
  },
  {
   "cell_type": "code",
   "execution_count": null,
   "id": "be82fc1a",
   "metadata": {},
   "outputs": [],
   "source": [
    "memory.clear()\n",
    "#agent.run(\"I have a box 1.5 meters by 2.5 meters. What is the volume?\")\n",
    "agent.run(\"How many of the integers between 0 and 99 inclusive are divisible by 8?\")"
   ]
  },
  {
   "cell_type": "code",
   "execution_count": null,
   "id": "b14d812f",
   "metadata": {},
   "outputs": [],
   "source": [
    "memory.buffer = \"\"\n",
    "agent.run(\"I have a ball 1m in diameter. What is its volume in cubic meters?\")"
   ]
  },
  {
   "cell_type": "code",
   "execution_count": null,
   "id": "3536ca6b",
   "metadata": {},
   "outputs": [],
   "source": [
    "agent.run(\"Thanks. Round that for me\")"
   ]
  },
  {
   "attachments": {},
   "cell_type": "markdown",
   "id": "f275f558",
   "metadata": {},
   "source": [
    "### Bonus: World Cup"
   ]
  },
  {
   "cell_type": "code",
   "execution_count": null,
   "id": "c7c84ffe",
   "metadata": {},
   "outputs": [],
   "source": [
    "memory.clear()\n",
    "agent.run(\"What was the final score in the match between Portugal vs Switzerland in the 2022 World Cup?\")"
   ]
  },
  {
   "cell_type": "code",
   "execution_count": null,
   "id": "f156e666",
   "metadata": {},
   "outputs": [],
   "source": [
    "agent.run(\"Give me 10 facts about the winning country\")"
   ]
  }
 ],
 "metadata": {
  "kernelspec": {
   "display_name": "Python 3.9.6 ('env': venv)",
   "language": "python",
   "name": "python3"
  },
  "language_info": {
   "codemirror_mode": {
    "name": "ipython",
    "version": 3
   },
   "file_extension": ".py",
   "mimetype": "text/x-python",
   "name": "python",
   "nbconvert_exporter": "python",
   "pygments_lexer": "ipython3",
   "version": "3.9.6 (default, Oct 18 2022, 12:41:40) \n[Clang 14.0.0 (clang-1400.0.29.202)]"
  },
  "vscode": {
   "interpreter": {
    "hash": "387f1c5c539775d3a9fb67934e1943fc9d2ef3e2c55b48bdf4b97fe4bd33759d"
   }
  }
 },
 "nbformat": 4,
 "nbformat_minor": 5
}
